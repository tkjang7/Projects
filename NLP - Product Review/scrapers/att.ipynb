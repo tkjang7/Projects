{
 "cells": [
  {
   "cell_type": "code",
   "execution_count": 1,
   "metadata": {},
   "outputs": [],
   "source": [
    "'''\n",
    "This is to scrape att.com's iphone reviews.\n",
    "There are 1117 reviews and ratings for iphone X.\n",
    "\n",
    "written by Soi Kang\n",
    "3/30/2019\n",
    "'''\n",
    "\n",
    "from selenium import webdriver\n",
    "from selenium.webdriver.support.ui import WebDriverWait\n",
    "from selenium.webdriver.support import expected_conditions as EC\n",
    "from selenium.webdriver.common.by import By\n",
    "from pathlib import Path\n",
    "from bs4 import BeautifulSoup\n",
    "\n",
    "driver = webdriver.Chrome()\n",
    "driver.get(\"https://www.att.com/buy/phones/apple-iphone-x-64gb-space-gray.html\")\n",
    "\n",
    "# need to navigate through reviews.\n",
    "# problem for this website is that the url doesn't change no matter what I navigate through\n",
    "# but selenium can do it\n",
    "\n",
    "#this is to get to the reviews from the original url\n",
    "review_button_path = '//*[@id=\"accordion-control-reviews\"]/span[1]'\n",
    "wait = WebDriverWait(driver, 5)\n",
    "review_button = wait.until(EC.visibility_of_element_located((By.XPATH, review_button_path)))\n",
    "driver.execute_script(\"arguments[0].click();\", review_button)"
   ]
  },
  {
   "cell_type": "code",
   "execution_count": 2,
   "metadata": {},
   "outputs": [],
   "source": [
    "# this below retreives all the text in the review container\n",
    "# but don't need it....\n",
    "#review_container = driver.find_element_by_id(\"BVRRContainer\")\n",
    "\n",
    "# get the reviews and rating for the first page\n",
    "#reviews = []\n",
    "#ratings = []\n",
    "review_rating = []\n",
    "\n",
    "review_list = driver.find_elements_by_css_selector('.bv-content-item.bv-content-top-review.bv-content-review')\n",
    "for el in review_list:\n",
    "    #print(el.find_element_by_class_name(\"bv-content-summary-body-text\").text)\n",
    "    #print(el.find_element_by_class_name(\"bv-rating-ratio\").text)\n",
    "    review_rating.append(el.find_element_by_class_name(\"bv-content-summary-body-text\").text)\n",
    "    review_rating.append(el.find_element_by_class_name(\"bv-rating-ratio\").text)"
   ]
  },
  {
   "cell_type": "code",
   "execution_count": 3,
   "metadata": {},
   "outputs": [
    {
     "name": "stdout",
     "output_type": "stream",
     "text": [
      "2\n",
      "3\n",
      "4\n",
      "5\n",
      "6\n",
      "7\n",
      "8\n",
      "9\n",
      "10\n",
      "11\n",
      "12\n",
      "13\n",
      "14\n",
      "15\n",
      "16\n",
      "17\n",
      "18\n",
      "19\n",
      "20\n",
      "21\n",
      "22\n",
      "23\n",
      "24\n",
      "25\n",
      "26\n",
      "27\n",
      "28\n",
      "29\n",
      "30\n",
      "31\n",
      "32\n",
      "33\n",
      "34\n",
      "35\n",
      "36\n",
      "37\n",
      "38\n",
      "39\n"
     ]
    }
   ],
   "source": [
    "from selenium.common import exceptions\n",
    "import time\n",
    "\n",
    "# get the reviews starting from the 2nd page\n",
    "# until there is no button to click\n",
    "# there are about 37ish pages total since there are about 1100 reviews\n",
    "# (probably) 30 pages per reviews except for the first page\n",
    "i=2\n",
    "reviews_ratings=[]\n",
    "#wait = WebDriverWait(driver, 30)\n",
    "\n",
    "while(True):\n",
    "    try :\n",
    "        next_review_path = '//*[@id=\"BVRRContainer\"]/div/div/div/div/div[3]/div/ul/li[2]/button' \n",
    "        review_next_button = WebDriverWait(driver, 50).until(EC.element_to_be_clickable((By.XPATH, next_review_path)))\n",
    "        driver.execute_script(\"arguments[0].click();\", review_next_button)\n",
    "        time.sleep(3)\n",
    "  \n",
    "        # append the reviews and ratings to a list\n",
    "        review_list = driver.find_elements_by_css_selector('.bv-content-item.bv-content-top-review.bv-content-review')\n",
    "        for el in review_list:\n",
    "            review_rating.append(el.find_element_by_class_name(\"bv-content-summary-body-text\").text)\n",
    "            review_rating.append(el.find_element_by_class_name(\"bv-rating-ratio\").text)\n",
    "        time.sleep(3)\n",
    "        print(i)\n",
    "        i=i+1\n",
    "    \n",
    "    #except exceptions.StaleElementReferenceException:\n",
    "    except exceptions.StaleElementReferenceException as e:\n",
    "        raise e\n",
    "    \n",
    "    except exceptions.TimeoutException :\n",
    "        break\n",
    "    "
   ]
  },
  {
   "cell_type": "code",
   "execution_count": 16,
   "metadata": {},
   "outputs": [
    {
     "name": "stdout",
     "output_type": "stream",
     "text": [
      "2234\n",
      "2234\n",
      "1117\n",
      "1117\n"
     ]
    }
   ],
   "source": [
    "# this should have 1117*2=2234 elements\n",
    "# since I have added both reviews and ratings in one list\n",
    "# this was done to compare the reviews and ratings together\n",
    "print(len(review_rating))\n",
    "print(1117*2)\n",
    "\n",
    "# separate the list to two\n",
    "# one for review and the other for \n",
    "ratings = []\n",
    "reviews = []\n",
    "\n",
    "# even number to be reviews (starting at index 0)\n",
    "# review number to be ratings\n",
    "\n",
    "for i in range(len(review_rating)) :\n",
    "    if((i%2)==0):\n",
    "        reviews.append(review_rating[i])\n",
    "    \n",
    "    else :\n",
    "        ratings.append(review_rating[i])\n",
    "    \n",
    "\n",
    "#now we have to have 1117 elements in each separated list\n",
    "print(len(reviews))\n",
    "print(len(ratings))    \n",
    "    "
   ]
  },
  {
   "cell_type": "code",
   "execution_count": 34,
   "metadata": {},
   "outputs": [
    {
     "name": "stdout",
     "output_type": "stream",
     "text": [
      "['★★★★★\\n★★★★★\\n5 out of 5 stars.', '★★★★★\\n★★★★★\\n5 out of 5 stars.', '★★★★★\\n★★★★★\\n5 out of 5 stars.', '★★★★★\\n★★★★★\\n5 out of 5 stars.', '★★★★★\\n★★★★★\\n5 out of 5 stars.', '★★★★★\\n★★★★★\\n5 out of 5 stars.', '★★★★★\\n★★★★★\\n5 out of 5 stars.', '★★★★★\\n★★★★★\\n5 out of 5 stars.', '★★★★★\\n★★★★★\\n5 out of 5 stars.', '★★★★★\\n★★★★★\\n5 out of 5 stars.', '★★★★★\\n★★★★★\\n5 out of 5 stars.', '★★★★★\\n★★★★★\\n5 out of 5 stars.', '★★★★★\\n★★★★★\\n3 out of 5 stars.', '★★★★★\\n★★★★★\\n5 out of 5 stars.', '★★★★★\\n★★★★★\\n5 out of 5 stars.', '★★★★★\\n★★★★★\\n5 out of 5 stars.', '★★★★★\\n★★★★★\\n5 out of 5 stars.', '★★★★★\\n★★★★★\\n5 out of 5 stars.', '★★★★★\\n★★★★★\\n5 out of 5 stars.', '★★★★★\\n★★★★★\\n3 out of 5 stars.']\n",
      "['5', '5', '5', '5', '5', '5', '5', '5', '5', '5', '5', '5', '3', '5', '5', '5', '5', '5', '5', '3']\n",
      "1117\n"
     ]
    }
   ],
   "source": [
    "#print(reviews[0:10])\n",
    "#print(ratings[0:10])\n",
    "\n",
    "#now, let's get just the numbers in the ratings list and get rid of all the unnecessary strings\n",
    "#if you see the first instance of a number, that's the rating we should get\n",
    "import re\n",
    "\n",
    "#print(ratings[0])\n",
    "#print(re.search(r'\\d+', ratings[0]).group())\n",
    "\n",
    "numbers = []\n",
    "for rating in ratings :\n",
    "    \n",
    "    numbers.append(re.search(r'\\d+', rating).group())\n",
    "\n",
    "print(ratings[-20:])\n",
    "print(numbers[-20:])\n",
    "print(len(numbers))"
   ]
  },
  {
   "cell_type": "code",
   "execution_count": 38,
   "metadata": {},
   "outputs": [],
   "source": [
    "# combine the two lists as a dataframe\n",
    "import pandas as pd\n",
    "\n",
    "df = pd.DataFrame({\"review\" : reviews, \"rating\" : numbers})\n",
    "df['source'] = \"att.com\"\n",
    "df['phone'] = \"iphone\"\n",
    "    \n",
    "    \n",
    "#reorder columns\n",
    "cols = ['source','phone','review','rating']\n",
    "final = df.reindex(columns=cols)        "
   ]
  },
  {
   "cell_type": "code",
   "execution_count": 40,
   "metadata": {},
   "outputs": [],
   "source": [
    "len(final)\n",
    "final.to_csv('att_iphone.csv', index=False)"
   ]
  }
 ],
 "metadata": {
  "kernelspec": {
   "display_name": "Python 3",
   "language": "python",
   "name": "python3"
  },
  "language_info": {
   "codemirror_mode": {
    "name": "ipython",
    "version": 3
   },
   "file_extension": ".py",
   "mimetype": "text/x-python",
   "name": "python",
   "nbconvert_exporter": "python",
   "pygments_lexer": "ipython3",
   "version": "3.6.8"
  }
 },
 "nbformat": 4,
 "nbformat_minor": 2
}
