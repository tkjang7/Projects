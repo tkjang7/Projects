{
 "cells": [
  {
   "cell_type": "code",
   "execution_count": 3,
   "metadata": {},
   "outputs": [],
   "source": [
    "import pandas as pd\n",
    "from bs4 import BeautifulSoup\n",
    "import urllib.request\n",
    "import json"
   ]
  },
  {
   "cell_type": "code",
   "execution_count": 245,
   "metadata": {},
   "outputs": [],
   "source": [
    "\n",
    "\n",
    "element = soup1.find_all(\"script\")\n",
    "\n",
    "#print(element[19])\n",
    "review = element[16].string\n",
    "\n",
    "#delete _data part and the extra ; at the end\n",
    "review = review[28: len(review)-1]"
   ]
  },
  {
   "cell_type": "code",
   "execution_count": 246,
   "metadata": {},
   "outputs": [],
   "source": [
    "data = json.loads(review)"
   ]
  },
  {
   "cell_type": "code",
   "execution_count": 249,
   "metadata": {},
   "outputs": [],
   "source": [
    "ls2=[]\n",
    "for k in range(len(data['listing']['reviews']['collection'])):\n",
    "    z2=data['listing']['reviews']['collection'][k]['rating']\n",
    "    ls2.append(z2)"
   ]
  },
  {
   "cell_type": "code",
   "execution_count": 299,
   "metadata": {},
   "outputs": [],
   "source": [
    "############ Galaxy #############\n",
    "\n",
    "reviews=[]\n",
    "ratings=[]\n",
    "\n",
    "page=6\n",
    "for p in range(1, page+1):\n",
    "    url = \"https://www.productreview.com.au/listings/samsung-galaxy-s9?page=\"+str(p)+\"#reviews\"\n",
    "    with urllib.request.urlopen(url) as response:\n",
    "        html = response.read()\n",
    "        html = html.decode('utf-8')\n",
    "    soup = BeautifulSoup(html, 'html.parser')\n",
    "    zz=soup.find_all(itemprop=\"description\")\n",
    "    \n",
    "    for i in range(len(zz)):\n",
    "        j=zz[i].getText()\n",
    "        reviews.append(j)\n",
    "    \n",
    "    element = soup.find_all(\"script\")\n",
    "    review = element[16].string\n",
    "    review = review[28: len(review)-1]\n",
    "    data = json.loads(review)\n",
    "    \n",
    "    for k in range(len(data['listing']['reviews']['collection'])):\n",
    "        zzz=data['listing']['reviews']['collection'][k]['rating']\n",
    "        ratings.append(zzz)"
   ]
  },
  {
   "cell_type": "code",
   "execution_count": 310,
   "metadata": {},
   "outputs": [],
   "source": [
    "############ iPhone #############\n",
    "reviews1=[]\n",
    "ratings1=[]\n",
    "\n",
    "page=33\n",
    "for p in range(1, page+1):\n",
    "    url = \"https://www.productreview.com.au/listings/apple-iphone-x?page=\"+str(p)+\"#reviews\"\n",
    "    with urllib.request.urlopen(url) as response:\n",
    "        html = response.read()\n",
    "        html = html.decode('utf-8')\n",
    "    soup = BeautifulSoup(html, 'html.parser')\n",
    "    zz=soup.find_all(itemprop=\"description\")\n",
    "    \n",
    "    for i in range(len(zz)):\n",
    "        j=zz[i].getText()\n",
    "        reviews1.append(j)\n",
    "    \n",
    "    element = soup.find_all(\"script\")\n",
    "    review = element[16].string\n",
    "    review = review[28: len(review)-1]\n",
    "    data = json.loads(review)\n",
    "    \n",
    "    for k in range(len(data['listing']['reviews']['collection'])):\n",
    "        zzz=data['listing']['reviews']['collection'][k]['rating']\n",
    "        ratings1.append(zzz)"
   ]
  },
  {
   "cell_type": "code",
   "execution_count": 311,
   "metadata": {},
   "outputs": [
    {
     "data": {
      "text/plain": [
       "660"
      ]
     },
     "execution_count": 311,
     "metadata": {},
     "output_type": "execute_result"
    }
   ],
   "source": [
    "len(reviews1)\n",
    "len(ratings1)"
   ]
  },
  {
   "cell_type": "code",
   "execution_count": 324,
   "metadata": {},
   "outputs": [],
   "source": [
    "import numpy as np\n",
    "import pandas as pd\n",
    "\n",
    "phone = list(np.repeat(\"galaxy\",len(ratings)))\n",
    "source = list(np.repeat(\"Productreview.com.au\",len(ratings))) \n",
    "\n",
    "phone1 = list(np.repeat(\"iphone\",len(ratings1)))\n",
    "source1 = list(np.repeat(\"Productreview.com.au\",len(ratings1)))\n"
   ]
  },
  {
   "cell_type": "code",
   "execution_count": 327,
   "metadata": {},
   "outputs": [],
   "source": [
    "galaxy = pd.DataFrame({\"source\":source, \"phone\":phone, \"review\": reviews, \"rating\":ratings})\n",
    "iPhone = pd.DataFrame({\"source\":source1, \"phone\":phone1, \"review\": reviews1, \"rating\":ratings1})"
   ]
  },
  {
   "cell_type": "code",
   "execution_count": 334,
   "metadata": {},
   "outputs": [],
   "source": [
    "#conbining rows\n",
    "productreview=pd.concat([galaxy, iPhone], axis=0)"
   ]
  },
  {
   "cell_type": "code",
   "execution_count": 336,
   "metadata": {},
   "outputs": [],
   "source": [
    "bestbuy = pd.read_csv(\"bestbuy.csv\")"
   ]
  },
  {
   "cell_type": "code",
   "execution_count": 338,
   "metadata": {},
   "outputs": [],
   "source": [
    "df = pd.concat([productreview, bestbuy], axis=0)"
   ]
  },
  {
   "cell_type": "code",
   "execution_count": 340,
   "metadata": {},
   "outputs": [],
   "source": [
    "df.to_csv('sofar.csv')"
   ]
  },
  {
   "cell_type": "code",
   "execution_count": 1,
   "metadata": {},
   "outputs": [],
   "source": [
    "##### Loading\n",
    "import numpy as np\n",
    "import pandas as pd"
   ]
  },
  {
   "cell_type": "code",
   "execution_count": 37,
   "metadata": {},
   "outputs": [],
   "source": [
    "df = pd.read_csv('sofar.csv')"
   ]
  },
  {
   "cell_type": "code",
   "execution_count": 25,
   "metadata": {},
   "outputs": [],
   "source": [
    "df1=pd.read_csv('influenster_galaxy.csv')\n",
    "df2=pd.read_csv('influenster_iphone.csv')"
   ]
  },
  {
   "cell_type": "code",
   "execution_count": 51,
   "metadata": {},
   "outputs": [],
   "source": [
    "data = pd.concat([df, df1, df2], axis=0)"
   ]
  },
  {
   "cell_type": "code",
   "execution_count": 55,
   "metadata": {},
   "outputs": [],
   "source": [
    "#df=df.drop(\"Unnamed: 0\", axis=1)\n",
    "#data.to_csv(\"data.csv\", index=False)"
   ]
  },
  {
   "cell_type": "code",
   "execution_count": 56,
   "metadata": {},
   "outputs": [],
   "source": [
    "data = pd.read_csv(\"data.csv\")"
   ]
  },
  {
   "cell_type": "code",
   "execution_count": 63,
   "metadata": {},
   "outputs": [
    {
     "name": "stderr",
     "output_type": "stream",
     "text": [
      "C:\\Users\\tkjan\\Anaconda3\\lib\\site-packages\\ipykernel_launcher.py:5: SettingWithCopyWarning: \n",
      "A value is trying to be set on a copy of a slice from a DataFrame\n",
      "\n",
      "See the caveats in the documentation: http://pandas.pydata.org/pandas-docs/stable/indexing.html#indexing-view-versus-copy\n",
      "  \"\"\"\n"
     ]
    }
   ],
   "source": [
    "#Cleaning\n",
    "\n",
    "data[\"phone\"].value_counts()\n",
    "\n",
    "for i in range(len(data[\"phone\"])):\n",
    "    if data[\"phone\"][i] == \"iPhone\":\n",
    "        data[\"phone\"][i] = \"iphone\"\n",
    "    "
   ]
  },
  {
   "cell_type": "code",
   "execution_count": 71,
   "metadata": {},
   "outputs": [
    {
     "data": {
      "text/plain": [
       "galaxy    1812\n",
       "iphone    1689\n",
       "Name: phone, dtype: int64"
      ]
     },
     "execution_count": 71,
     "metadata": {},
     "output_type": "execute_result"
    }
   ],
   "source": [
    "data[\"phone\"].value_counts()"
   ]
  },
  {
   "cell_type": "code",
   "execution_count": null,
   "metadata": {},
   "outputs": [],
   "source": [
    "from selenium import webdriver\n",
    "from selenium.webdriver.support.ui import WebDriverWait\n",
    "from selenium.webdriver.support import expected_conditions as EC\n",
    "from selenium.webdriver.common.by import By\n",
    "from pathlib import Path\n",
    "from bs4 import BeautifulSoup"
   ]
  },
  {
   "cell_type": "code",
   "execution_count": 290,
   "metadata": {},
   "outputs": [],
   "source": [
    "driver = webdriver.Chrome()\n",
    "driver.get(\"https://www.very.co.uk/samsung-galaxynbsps9-64gb-blue/1600255626.prd?_requestid=1300638&Ntt=s9#BVRRContainer\")\n",
    "\n",
    "# need to navigate through reviews.\n",
    "# problem for this website is that the url doesn't change no matter what I navigate through\n",
    "# but selenium can do it\n",
    "\n",
    "#this is to get to the reviews from the original url\n",
    "#review_button_path = '//*[@id=\"BVRRContainer\"]/div/div/div/div/div[3]/div/ul/li[2]/a'\n",
    "#wait = WebDriverWait(driver, 5)\n",
    "#review_button = wait.until(EC.visibility_of_element_located((By.XPATH, review_button_path)))\n",
    "#driver.execute_script(\"arguments[0].click();\", review_button)"
   ]
  },
  {
   "cell_type": "code",
   "execution_count": 300,
   "metadata": {},
   "outputs": [],
   "source": [
    "############################ Galaxy #############################\n",
    "#################################################################\n",
    "\n",
    "#################################################################\n",
    "'''\n",
    "WARNING:\n",
    "\n",
    "This code chunks take about 50 minutes to run\n",
    "'''\n",
    "#################################################################\n",
    "\n",
    "# this below retreives all the text in the review container\n",
    "# but don't need it....\n",
    "#review_container = driver.find_element_by_id(\"BVRRContainer\")\n",
    "\n",
    "# get the reviews and rating for the first page\n",
    "reviews = []\n",
    "ratings = []\n",
    "review_rating = []\n",
    "\n",
    "review_list = driver.find_elements_by_css_selector('.bv-content-item.bv-content-top-review.bv-content-review')\n",
    "for el in review_list:\n",
    "    #print(el.find_element_by_class_name(\"bv-content-summary-body-text\").text)\n",
    "    #print(el.find_element_by_class_name(\"bv-rating-ratio\").text)\n",
    "    reviews.append(el.find_element_by_class_name(\"bv-content-details-offset-on\").text)\n",
    "    ratings.append(el.find_element_by_class_name(\"bv-rating-stars-container\").find_element_by_class_name(\"bv-off-screen\").text)"
   ]
  },
  {
   "cell_type": "code",
   "execution_count": 305,
   "metadata": {},
   "outputs": [
    {
     "name": "stdout",
     "output_type": "stream",
     "text": [
      "2\n",
      "3\n",
      "4\n",
      "5\n",
      "6\n",
      "7\n",
      "8\n",
      "9\n",
      "10\n",
      "11\n",
      "12\n",
      "13\n",
      "14\n",
      "15\n",
      "16\n",
      "17\n",
      "18\n",
      "19\n",
      "20\n",
      "21\n",
      "22\n",
      "23\n",
      "24\n",
      "25\n",
      "26\n",
      "27\n",
      "28\n",
      "29\n",
      "30\n",
      "31\n",
      "32\n",
      "33\n",
      "34\n",
      "35\n",
      "36\n",
      "37\n",
      "38\n",
      "39\n",
      "40\n",
      "41\n",
      "42\n",
      "43\n",
      "44\n",
      "45\n",
      "46\n",
      "47\n",
      "48\n",
      "49\n",
      "50\n",
      "51\n",
      "52\n",
      "53\n",
      "54\n",
      "55\n",
      "56\n",
      "57\n",
      "58\n",
      "59\n",
      "60\n",
      "61\n",
      "62\n",
      "63\n",
      "64\n",
      "65\n",
      "66\n",
      "67\n",
      "68\n",
      "69\n",
      "70\n",
      "71\n",
      "72\n",
      "73\n",
      "74\n",
      "75\n",
      "76\n",
      "77\n",
      "78\n",
      "79\n",
      "80\n",
      "81\n",
      "82\n",
      "83\n",
      "84\n",
      "85\n",
      "86\n",
      "87\n",
      "88\n",
      "89\n",
      "90\n",
      "91\n",
      "92\n",
      "93\n",
      "94\n",
      "95\n",
      "96\n",
      "97\n",
      "98\n",
      "99\n",
      "100\n",
      "101\n",
      "102\n",
      "103\n",
      "104\n",
      "105\n",
      "106\n",
      "107\n",
      "108\n",
      "109\n",
      "110\n",
      "111\n",
      "112\n",
      "113\n",
      "114\n",
      "115\n",
      "116\n",
      "117\n",
      "118\n",
      "119\n",
      "120\n",
      "121\n",
      "122\n",
      "123\n",
      "124\n",
      "125\n",
      "126\n",
      "127\n",
      "128\n",
      "129\n",
      "130\n",
      "131\n",
      "132\n",
      "133\n",
      "134\n",
      "135\n",
      "136\n",
      "137\n",
      "138\n",
      "139\n",
      "140\n",
      "141\n",
      "142\n",
      "143\n",
      "144\n",
      "145\n",
      "146\n",
      "147\n",
      "148\n",
      "149\n",
      "150\n",
      "151\n",
      "152\n",
      "153\n",
      "154\n",
      "155\n",
      "156\n",
      "157\n",
      "158\n",
      "159\n",
      "160\n",
      "161\n",
      "162\n",
      "163\n",
      "164\n",
      "165\n",
      "166\n",
      "167\n",
      "168\n",
      "169\n",
      "170\n",
      "171\n",
      "172\n",
      "173\n",
      "174\n",
      "175\n",
      "176\n",
      "177\n",
      "178\n",
      "179\n",
      "180\n",
      "181\n",
      "182\n",
      "183\n",
      "184\n",
      "185\n",
      "186\n",
      "187\n",
      "188\n",
      "189\n",
      "190\n",
      "191\n",
      "192\n",
      "193\n",
      "194\n",
      "195\n",
      "196\n",
      "197\n",
      "198\n",
      "199\n",
      "200\n",
      "201\n",
      "202\n",
      "203\n",
      "204\n",
      "205\n",
      "206\n",
      "207\n",
      "208\n",
      "209\n",
      "210\n",
      "211\n",
      "212\n",
      "213\n",
      "214\n",
      "215\n",
      "216\n",
      "217\n",
      "218\n",
      "219\n",
      "220\n",
      "221\n",
      "222\n",
      "223\n",
      "224\n",
      "225\n",
      "226\n",
      "227\n",
      "228\n",
      "229\n",
      "230\n",
      "231\n",
      "232\n",
      "233\n",
      "234\n",
      "235\n",
      "236\n",
      "237\n",
      "238\n",
      "239\n",
      "240\n",
      "241\n",
      "242\n",
      "243\n",
      "244\n",
      "245\n",
      "246\n",
      "247\n",
      "248\n",
      "249\n",
      "250\n",
      "251\n",
      "252\n",
      "253\n",
      "254\n",
      "255\n"
     ]
    }
   ],
   "source": [
    "from selenium.common import exceptions\n",
    "import time\n",
    "\n",
    "# get the reviews starting from the 2nd page\n",
    "# until there is no button to click\n",
    "# there are about 37ish pages total since there are about 1100 reviews\n",
    "# (probably) 30 pages per reviews except for the first page\n",
    "i=2\n",
    "reviews_ratings=[]\n",
    "#wait = WebDriverWait(driver, 30)\n",
    "\n",
    "while(True):\n",
    "    try :\n",
    "        next_review_path = '//*[@id=\"BVRRContainer\"]/div/div/div/div/div[3]/div/ul/li[2]/a' \n",
    "        review_next_button = WebDriverWait(driver, 50).until(EC.element_to_be_clickable((By.XPATH, next_review_path)))\n",
    "        driver.execute_script(\"arguments[0].click();\", review_next_button)\n",
    "        time.sleep(3)\n",
    "  \n",
    "        # append the reviews and ratings to a list\n",
    "        review_list = driver.find_elements_by_css_selector('.bv-content-item.bv-content-top-review.bv-content-review')\n",
    "        for el in review_list:\n",
    "            reviews.append(el.find_element_by_class_name(\"bv-content-details-offset-on\").text)\n",
    "            ratings.append(el.find_element_by_class_name(\"bv-rating-stars-container\").find_element_by_class_name(\"bv-off-screen\").text)\n",
    "        time.sleep(3)\n",
    "        print(i)\n",
    "        i=i+1\n",
    "    \n",
    "    #except exceptions.StaleElementReferenceException:\n",
    "    except exceptions.StaleElementReferenceException as e:\n",
    "        raise e\n",
    "    \n",
    "    except exceptions.TimeoutException :\n",
    "        break\n",
    "    "
   ]
  },
  {
   "cell_type": "code",
   "execution_count": 349,
   "metadata": {},
   "outputs": [],
   "source": [
    "#verydata = pd.DataFrame({\"review\":reviews, \"rating\":ratings})\n",
    "#verydata.to_csv(\"very_galaxy.csv\", index=False)"
   ]
  },
  {
   "cell_type": "code",
   "execution_count": 320,
   "metadata": {},
   "outputs": [],
   "source": [
    "############################ iPhone 1 #############################\n",
    "#################################################################\n",
    "\n",
    "driver = webdriver.Chrome()\n",
    "driver.get(\"https://www.very.co.uk/apple-iphonenbspxnbsp64gbnbsp--space-grey/1600213805.prd#BVRRContainer\")"
   ]
  },
  {
   "cell_type": "code",
   "execution_count": 321,
   "metadata": {},
   "outputs": [],
   "source": [
    "reviews = []\n",
    "ratings = []\n",
    "review_rating = []\n",
    "\n",
    "review_list = driver.find_elements_by_css_selector('.bv-content-item.bv-content-top-review.bv-content-review')\n",
    "for el in review_list:\n",
    "    #print(el.find_element_by_class_name(\"bv-content-summary-body-text\").text)\n",
    "    #print(el.find_element_by_class_name(\"bv-rating-ratio\").text)\n",
    "    reviews.append(el.find_element_by_class_name(\"bv-content-details-offset-on\").text)\n",
    "    ratings.append(el.find_element_by_class_name(\"bv-rating-stars-container\").find_element_by_class_name(\"bv-off-screen\").text)"
   ]
  },
  {
   "cell_type": "code",
   "execution_count": 322,
   "metadata": {},
   "outputs": [
    {
     "name": "stdout",
     "output_type": "stream",
     "text": [
      "2\n",
      "3\n",
      "4\n",
      "5\n",
      "6\n",
      "7\n"
     ]
    }
   ],
   "source": [
    "from selenium.common import exceptions\n",
    "import time\n",
    "\n",
    "# get the reviews starting from the 2nd page\n",
    "# until there is no button to click\n",
    "# there are about 37ish pages total since there are about 1100 reviews\n",
    "# (probably) 30 pages per reviews except for the first page\n",
    "i=2\n",
    "reviews_ratings=[]\n",
    "#wait = WebDriverWait(driver, 30)\n",
    "\n",
    "while(True):\n",
    "    try :\n",
    "        next_review_path = '//*[@id=\"BVRRContainer\"]/div/div/div/div/div[3]/div/ul/li[2]/a' \n",
    "        review_next_button = WebDriverWait(driver, 50).until(EC.element_to_be_clickable((By.XPATH, next_review_path)))\n",
    "        driver.execute_script(\"arguments[0].click();\", review_next_button)\n",
    "        time.sleep(3)\n",
    "  \n",
    "        # append the reviews and ratings to a list\n",
    "        review_list = driver.find_elements_by_css_selector('.bv-content-item.bv-content-top-review.bv-content-review')\n",
    "        for el in review_list:\n",
    "            reviews.append(el.find_element_by_class_name(\"bv-content-details-offset-on\").text)\n",
    "            ratings.append(el.find_element_by_class_name(\"bv-rating-stars-container\").find_element_by_class_name(\"bv-off-screen\").text)\n",
    "        time.sleep(3)\n",
    "        print(i)\n",
    "        i=i+1\n",
    "    \n",
    "    #except exceptions.StaleElementReferenceException:\n",
    "    except exceptions.StaleElementReferenceException as e:\n",
    "        raise e\n",
    "    \n",
    "    except exceptions.TimeoutException :\n",
    "        break\n",
    "    "
   ]
  },
  {
   "cell_type": "code",
   "execution_count": 324,
   "metadata": {},
   "outputs": [],
   "source": [
    "verydata_a1 = pd.DataFrame({\"reviews\":reviews, \"ratings\":ratings})\n",
    "#verydata_a1.to_csv(\"verydata_a1.csv\", index=False)"
   ]
  },
  {
   "cell_type": "code",
   "execution_count": 328,
   "metadata": {},
   "outputs": [
    {
     "name": "stdout",
     "output_type": "stream",
     "text": [
      "2\n",
      "3\n",
      "4\n",
      "5\n",
      "6\n",
      "7\n"
     ]
    }
   ],
   "source": [
    "############################ iPhone 2 #############################\n",
    "#################################################################\n",
    "\n",
    "driver = webdriver.Chrome()\n",
    "driver.get(\"https://www.very.co.uk/apple-iphonenbspx-64gb--nbspsilver/1600213795.prd#BVRRContainer\")\n",
    "\n",
    "reviews = []\n",
    "ratings = []\n",
    "review_rating = []\n",
    "\n",
    "review_list = driver.find_elements_by_css_selector('.bv-content-item.bv-content-top-review.bv-content-review')\n",
    "for el in review_list:\n",
    "    #print(el.find_element_by_class_name(\"bv-content-summary-body-text\").text)\n",
    "    #print(el.find_element_by_class_name(\"bv-rating-ratio\").text)\n",
    "    reviews.append(el.find_element_by_class_name(\"bv-content-details-offset-on\").text)\n",
    "    ratings.append(el.find_element_by_class_name(\"bv-rating-stars-container\").find_element_by_class_name(\"bv-off-screen\").text)\n",
    "\n",
    "    \n",
    "\n",
    "from selenium.common import exceptions\n",
    "import time\n",
    "\n",
    "# get the reviews starting from the 2nd page\n",
    "# until there is no button to click\n",
    "# there are about 37ish pages total since there are about 1100 reviews\n",
    "# (probably) 30 pages per reviews except for the first page\n",
    "i=2\n",
    "reviews_ratings=[]\n",
    "#wait = WebDriverWait(driver, 30)\n",
    "\n",
    "while(True):\n",
    "    try :\n",
    "        next_review_path = '//*[@id=\"BVRRContainer\"]/div/div/div/div/div[3]/div/ul/li[2]/a' \n",
    "        review_next_button = WebDriverWait(driver, 50).until(EC.element_to_be_clickable((By.XPATH, next_review_path)))\n",
    "        driver.execute_script(\"arguments[0].click();\", review_next_button)\n",
    "        time.sleep(3)\n",
    "  \n",
    "        # append the reviews and ratings to a list\n",
    "        review_list = driver.find_elements_by_css_selector('.bv-content-item.bv-content-top-review.bv-content-review')\n",
    "        for el in review_list:\n",
    "            reviews.append(el.find_element_by_class_name(\"bv-content-details-offset-on\").text)\n",
    "            ratings.append(el.find_element_by_class_name(\"bv-rating-stars-container\").find_element_by_class_name(\"bv-off-screen\").text)\n",
    "        time.sleep(3)\n",
    "        print(i)\n",
    "        i=i+1\n",
    "    \n",
    "    #except exceptions.StaleElementReferenceException:\n",
    "    except exceptions.StaleElementReferenceException as e:\n",
    "        raise e\n",
    "    \n",
    "    except exceptions.TimeoutException :\n",
    "        break\n",
    "    "
   ]
  },
  {
   "cell_type": "code",
   "execution_count": 329,
   "metadata": {},
   "outputs": [],
   "source": [
    "verydata_a2 = pd.DataFrame({\"reviews\":reviews, \"ratings\":ratings})"
   ]
  },
  {
   "cell_type": "code",
   "execution_count": 331,
   "metadata": {},
   "outputs": [
    {
     "name": "stdout",
     "output_type": "stream",
     "text": [
      "2\n",
      "3\n",
      "4\n"
     ]
    }
   ],
   "source": [
    "############################ iPhone 3 #############################\n",
    "#################################################################\n",
    "\n",
    "driver = webdriver.Chrome()\n",
    "driver.get(\"https://www.very.co.uk/apple-iphone-xnbsp256gbnbsp--space-grey/1600213807.prd#BVRRContainer\")\n",
    "\n",
    "reviews = []\n",
    "ratings = []\n",
    "review_rating = []\n",
    "\n",
    "review_list = driver.find_elements_by_css_selector('.bv-content-item.bv-content-top-review.bv-content-review')\n",
    "for el in review_list:\n",
    "    #print(el.find_element_by_class_name(\"bv-content-summary-body-text\").text)\n",
    "    #print(el.find_element_by_class_name(\"bv-rating-ratio\").text)\n",
    "    reviews.append(el.find_element_by_class_name(\"bv-content-details-offset-on\").text)\n",
    "    ratings.append(el.find_element_by_class_name(\"bv-rating-stars-container\").find_element_by_class_name(\"bv-off-screen\").text)\n",
    "\n",
    "    \n",
    "\n",
    "from selenium.common import exceptions\n",
    "import time\n",
    "\n",
    "# get the reviews starting from the 2nd page\n",
    "# until there is no button to click\n",
    "# there are about 37ish pages total since there are about 1100 reviews\n",
    "# (probably) 30 pages per reviews except for the first page\n",
    "i=2\n",
    "reviews_ratings=[]\n",
    "#wait = WebDriverWait(driver, 30)\n",
    "\n",
    "while(True):\n",
    "    try :\n",
    "        next_review_path = '//*[@id=\"BVRRContainer\"]/div/div/div/div/div[3]/div/ul/li[2]/a' \n",
    "        review_next_button = WebDriverWait(driver, 50).until(EC.element_to_be_clickable((By.XPATH, next_review_path)))\n",
    "        driver.execute_script(\"arguments[0].click();\", review_next_button)\n",
    "        time.sleep(3)\n",
    "  \n",
    "        # append the reviews and ratings to a list\n",
    "        review_list = driver.find_elements_by_css_selector('.bv-content-item.bv-content-top-review.bv-content-review')\n",
    "        for el in review_list:\n",
    "            reviews.append(el.find_element_by_class_name(\"bv-content-details-offset-on\").text)\n",
    "            ratings.append(el.find_element_by_class_name(\"bv-rating-stars-container\").find_element_by_class_name(\"bv-off-screen\").text)\n",
    "        time.sleep(3)\n",
    "        print(i)\n",
    "        i=i+1\n",
    "    \n",
    "    #except exceptions.StaleElementReferenceException:\n",
    "    except exceptions.StaleElementReferenceException as e:\n",
    "        raise e\n",
    "    \n",
    "    except exceptions.TimeoutException :\n",
    "        break\n",
    "    "
   ]
  },
  {
   "cell_type": "code",
   "execution_count": 332,
   "metadata": {},
   "outputs": [],
   "source": [
    "verydata_a3 = pd.DataFrame({\"reviews\":reviews, \"ratings\":ratings})"
   ]
  },
  {
   "cell_type": "code",
   "execution_count": 333,
   "metadata": {},
   "outputs": [
    {
     "data": {
      "text/plain": [
       "89"
      ]
     },
     "execution_count": 333,
     "metadata": {},
     "output_type": "execute_result"
    }
   ],
   "source": [
    "len(verydata_a3)"
   ]
  },
  {
   "cell_type": "code",
   "execution_count": 334,
   "metadata": {},
   "outputs": [
    {
     "name": "stdout",
     "output_type": "stream",
     "text": [
      "2\n",
      "3\n"
     ]
    }
   ],
   "source": [
    "############################ iPhone 4 #############################\n",
    "#################################################################\n",
    "\n",
    "driver = webdriver.Chrome()\n",
    "driver.get(\"https://www.very.co.uk/apple-iphone-xnbsp256gbnbsp--silver/1600213784.prd#BVRRContainer\")\n",
    "\n",
    "reviews = []\n",
    "ratings = []\n",
    "review_rating = []\n",
    "\n",
    "review_list = driver.find_elements_by_css_selector('.bv-content-item.bv-content-top-review.bv-content-review')\n",
    "for el in review_list:\n",
    "    #print(el.find_element_by_class_name(\"bv-content-summary-body-text\").text)\n",
    "    #print(el.find_element_by_class_name(\"bv-rating-ratio\").text)\n",
    "    reviews.append(el.find_element_by_class_name(\"bv-content-details-offset-on\").text)\n",
    "    ratings.append(el.find_element_by_class_name(\"bv-rating-stars-container\").find_element_by_class_name(\"bv-off-screen\").text)\n",
    "\n",
    "    \n",
    "\n",
    "from selenium.common import exceptions\n",
    "import time\n",
    "\n",
    "# get the reviews starting from the 2nd page\n",
    "# until there is no button to click\n",
    "# there are about 37ish pages total since there are about 1100 reviews\n",
    "# (probably) 30 pages per reviews except for the first page\n",
    "i=2\n",
    "reviews_ratings=[]\n",
    "#wait = WebDriverWait(driver, 30)\n",
    "\n",
    "while(True):\n",
    "    try :\n",
    "        next_review_path = '//*[@id=\"BVRRContainer\"]/div/div/div/div/div[3]/div/ul/li[2]/a' \n",
    "        review_next_button = WebDriverWait(driver, 50).until(EC.element_to_be_clickable((By.XPATH, next_review_path)))\n",
    "        driver.execute_script(\"arguments[0].click();\", review_next_button)\n",
    "        time.sleep(3)\n",
    "  \n",
    "        # append the reviews and ratings to a list\n",
    "        review_list = driver.find_elements_by_css_selector('.bv-content-item.bv-content-top-review.bv-content-review')\n",
    "        for el in review_list:\n",
    "            reviews.append(el.find_element_by_class_name(\"bv-content-details-offset-on\").text)\n",
    "            ratings.append(el.find_element_by_class_name(\"bv-rating-stars-container\").find_element_by_class_name(\"bv-off-screen\").text)\n",
    "        time.sleep(3)\n",
    "        print(i)\n",
    "        i=i+1\n",
    "    \n",
    "    #except exceptions.StaleElementReferenceException:\n",
    "    except exceptions.StaleElementReferenceException as e:\n",
    "        raise e\n",
    "    \n",
    "    except exceptions.TimeoutException :\n",
    "        break\n",
    "    "
   ]
  },
  {
   "cell_type": "code",
   "execution_count": 335,
   "metadata": {},
   "outputs": [],
   "source": [
    "verydata_a4 = pd.DataFrame({\"reviews\":reviews, \"ratings\":ratings})"
   ]
  },
  {
   "cell_type": "code",
   "execution_count": 336,
   "metadata": {},
   "outputs": [
    {
     "data": {
      "text/plain": [
       "55"
      ]
     },
     "execution_count": 336,
     "metadata": {},
     "output_type": "execute_result"
    }
   ],
   "source": [
    "len(verydata_a4)"
   ]
  },
  {
   "cell_type": "code",
   "execution_count": 337,
   "metadata": {},
   "outputs": [],
   "source": [
    "very_apple = pd.concat([verydata_a1, verydata_a2, verydata_a3, verydata_a4], axis=0)"
   ]
  },
  {
   "cell_type": "code",
   "execution_count": 339,
   "metadata": {},
   "outputs": [],
   "source": [
    "very_apple.to_csv(\"very_iphone.csv\", index=False)"
   ]
  },
  {
   "cell_type": "code",
   "execution_count": 350,
   "metadata": {},
   "outputs": [],
   "source": [
    "########################## Cleaning ##########################\n",
    "\n",
    "#very_iphone = pd.read_csv(\"very_iphone.csv\")\n",
    "very_galaxy = pd.read_csv(\"very_galaxy.csv\")"
   ]
  },
  {
   "cell_type": "code",
   "execution_count": 346,
   "metadata": {},
   "outputs": [],
   "source": [
    "import numpy as np\n",
    "\n",
    "phone_g = list(np.repeat(\"galaxy\",len(very_galaxy)))\n",
    "source_g = list(np.repeat(\"Very.co.uk\",len(very_galaxy))) \n",
    "list_g = pd.DataFrame({\"phone\":phone_g, \"source\":source_g})\n",
    "\n",
    "\n",
    "phone_a = list(np.repeat(\"iphone\",len(very_iphone)))\n",
    "source_a = list(np.repeat(\"Very.co.uk\",len(very_iphone)))\n",
    "list_a = pd.DataFrame({\"phone\":phone_a, \"source\":source_a})"
   ]
  },
  {
   "cell_type": "code",
   "execution_count": 359,
   "metadata": {},
   "outputs": [],
   "source": [
    "#very_galaxy = pd.read_csv(\"verydata.csv\")\n",
    "#very_galaxy.to_csv(\"very_galaxy.csv\", index=False)"
   ]
  },
  {
   "cell_type": "code",
   "execution_count": 382,
   "metadata": {},
   "outputs": [
    {
     "data": {
      "text/plain": [
       "7620"
      ]
     },
     "execution_count": 382,
     "metadata": {},
     "output_type": "execute_result"
    }
   ],
   "source": [
    "very_galaxy1 = pd.concat([very_galaxy, list_g], axis = 1)\n",
    "#very_galaxy1.to_csv(\"very_galaxy.csv\", index = False)\n",
    "very_galaxy = pd.read_csv(\"very_galaxy.csv\")\n",
    "len(very_galaxy)"
   ]
  },
  {
   "cell_type": "code",
   "execution_count": 376,
   "metadata": {},
   "outputs": [],
   "source": [
    "very_iphone = pd.read_csv(\"very_iphone.csv\")\n",
    "very_iphone1 = pd.concat([very_iphone, list_a], axis = 1)\n"
   ]
  },
  {
   "cell_type": "code",
   "execution_count": 379,
   "metadata": {},
   "outputs": [],
   "source": [
    "very_iphone1.to_csv(\"very_iphone.csv\", index=False)"
   ]
  },
  {
   "cell_type": "code",
   "execution_count": 384,
   "metadata": {},
   "outputs": [],
   "source": [
    "#very_iphone = pd.read_csv(\"very_iphone.csv\")\n",
    "verydata = pd.concat([very_iphone, very_galaxy], axis = 0)\n",
    "#verydata.to_csv(\"verydata.csv\", index=False)"
   ]
  },
  {
   "cell_type": "code",
   "execution_count": 437,
   "metadata": {},
   "outputs": [],
   "source": [
    "verydata = pd.read_csv(\"verydata.csv\")"
   ]
  },
  {
   "cell_type": "code",
   "execution_count": 409,
   "metadata": {},
   "outputs": [],
   "source": [
    "######## Cleaning reviews ########\n",
    "\n",
    "\n",
    "# \"\\r\\r\\r\\n\" is a sufficient for splitting\n",
    "\n",
    "review_list=[]\n",
    "\n",
    "for i in verydata.review:\n",
    "    s=i.split(\"\\r\\r\\r\\n\")[0]\n",
    "    ss=s.strip()\n",
    "    review_list.append(ss)"
   ]
  },
  {
   "cell_type": "code",
   "execution_count": 423,
   "metadata": {},
   "outputs": [],
   "source": [
    "#verydata.drop('review', axis=1)\n",
    "review = pd.DataFrame({\"review\":review_list})"
   ]
  },
  {
   "cell_type": "code",
   "execution_count": 465,
   "metadata": {},
   "outputs": [],
   "source": [
    "######## Cleaning ratings ########\n",
    "rating_list=[]\n",
    "for r in verydata.rating:    \n",
    "    rr=r[0]\n",
    "    rating_list.append(int(rr))\n",
    "    "
   ]
  },
  {
   "cell_type": "code",
   "execution_count": 434,
   "metadata": {},
   "outputs": [],
   "source": [
    "rating = pd.DataFrame({\"rating\":rating_list})"
   ]
  },
  {
   "cell_type": "code",
   "execution_count": 456,
   "metadata": {},
   "outputs": [],
   "source": [
    "verydata1 = verydata.drop(['review', 'rating'], axis=1)\n",
    "\n",
    "verydata_final = pd.concat([verydata1, review, rating], axis=1)"
   ]
  },
  {
   "cell_type": "code",
   "execution_count": 485,
   "metadata": {},
   "outputs": [],
   "source": [
    "################## Fianl Combining ####################\n",
    "#######################################################\n",
    "\n",
    "sofar = pd.read_csv(\"data/data.csv\")\n",
    "verydata_final = pd.read_csv(\"data/verydata_final.csv\")\n",
    "vw_galaxy = pd.read_csv(\"data/vw_galaxy.csv\")\n",
    "vw_iphone = pd.read_csv(\"data/vw_iphone.csv\")\n",
    "att_galaxy = pd.read_csv(\"data/att_galaxy.csv\")\n",
    "att_iphone = pd.read_csv(\"data/att_iphone.csv\")"
   ]
  },
  {
   "cell_type": "code",
   "execution_count": 487,
   "metadata": {},
   "outputs": [],
   "source": [
    "vw_rating=[]\n",
    "for k in vw_iphone.rating:\n",
    "    kk=k[0]\n",
    "    vw_rating.append(int(kk))\n",
    "\n",
    "rating = pd.DataFrame({\"rating\":vw_rating})\n",
    "vw_iphone = vw_iphone.drop(['rating'], axis=1)\n",
    "vw_iphone_m = pd.concat([vw_iphone, rating], axis=1)"
   ]
  },
  {
   "cell_type": "code",
   "execution_count": 489,
   "metadata": {},
   "outputs": [],
   "source": [
    "vw_iphone_m.to_csv(\"data/vw_iphone_m.csv\", index=False)\n",
    "vw_iphone = pd.read_csv(\"data/vw_iphone_m.csv\")"
   ]
  },
  {
   "cell_type": "code",
   "execution_count": 490,
   "metadata": {},
   "outputs": [],
   "source": [
    "final_data = pd.concat([sofar, verydata_final, vw_galaxy, vw_iphone, att_galaxy, att_iphone], axis=0)"
   ]
  },
  {
   "cell_type": "code",
   "execution_count": 491,
   "metadata": {},
   "outputs": [],
   "source": [
    "final_data.to_csv(\"data/final_data.csv\", index=False)"
   ]
  },
  {
   "cell_type": "code",
   "execution_count": 493,
   "metadata": {},
   "outputs": [
    {
     "data": {
      "text/plain": [
       "galaxy    9775\n",
       "iphone    3476\n",
       "Name: phone, dtype: int64"
      ]
     },
     "execution_count": 493,
     "metadata": {},
     "output_type": "execute_result"
    }
   ],
   "source": [
    "final_data['phone'].value_counts()"
   ]
  }
 ],
 "metadata": {
  "kernelspec": {
   "display_name": "Python 3",
   "language": "python",
   "name": "python3"
  },
  "language_info": {
   "codemirror_mode": {
    "name": "ipython",
    "version": 3
   },
   "file_extension": ".py",
   "mimetype": "text/x-python",
   "name": "python",
   "nbconvert_exporter": "python",
   "pygments_lexer": "ipython3",
   "version": "3.6.4"
  }
 },
 "nbformat": 4,
 "nbformat_minor": 2
}
