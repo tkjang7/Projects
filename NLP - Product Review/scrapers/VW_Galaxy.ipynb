{
 "cells": [
  {
   "cell_type": "code",
   "execution_count": null,
   "metadata": {},
   "outputs": [],
   "source": [
    "https://www.verizonwireless.com/smartphones/samsung-galaxy-s9/"
   ]
  },
  {
   "cell_type": "code",
   "execution_count": 67,
   "metadata": {},
   "outputs": [],
   "source": [
    "from selenium import webdriver\n",
    "from selenium.webdriver.support.ui import WebDriverWait\n",
    "from selenium.webdriver.support import expected_conditions as EC\n",
    "from selenium.webdriver.common.by import By\n",
    "from pathlib import Path\n",
    "from bs4 import BeautifulSoup\n",
    "\n",
    "driver = webdriver.Chrome()\n",
    "driver.get(\"https://www.verizonwireless.com/smartphones/samsung-galaxy-s9/\")\n",
    "\n",
    "# need to navigate through reviews.\n",
    "# problem for this website is that the url doesn't change no matter what I navigate through, beacuse it is a dynamic website\n",
    "# but selenium can do it\n",
    "\n",
    "\n",
    "#this is to get to the reviews from the original url\n",
    "review_button_path = '//*[@id=\"reviewsLink\"]'\n",
    "wait = WebDriverWait(driver, 5)\n",
    "review_button = wait.until(EC.visibility_of_element_located((By.XPATH, review_button_path)))\n",
    "driver.execute_script(\"arguments[0].click();\", review_button)"
   ]
  },
  {
   "cell_type": "code",
   "execution_count": 68,
   "metadata": {},
   "outputs": [],
   "source": [
    "# this below retreives all the text in the review container\n",
    "# but don't need it....\n",
    "\n",
    "# get the reviews and rating for the first page\n",
    "reviews = []\n",
    "ratings = []\n",
    "\n",
    "\n",
    "review_list = driver.find_elements_by_css_selector('.NHaasDS55Rg.fontSize_12.padBottom15.wrapText')\n",
    "for el in review_list:\n",
    "    reviews.append(el.find_element_by_tag_name('span').text)\n",
    "\n",
    "    \n",
    "rating_list = driver.find_elements_by_css_selector('.displayInlineBlock.positionRelative.fontSize_14')\n",
    "for st in rating_list:\n",
    "    ratings.append(st.find_element_by_class_name('a11y-hidden').text)"
   ]
  },
  {
   "cell_type": "code",
   "execution_count": 69,
   "metadata": {},
   "outputs": [
    {
     "data": {
      "text/plain": [
       "['3 out of',\n",
       " '4 out of',\n",
       " '4 out of',\n",
       " '3 out of',\n",
       " '2 out of',\n",
       " '4 out of',\n",
       " '1 out of',\n",
       " '4 out of',\n",
       " '3 out of']"
      ]
     },
     "execution_count": 69,
     "metadata": {},
     "output_type": "execute_result"
    }
   ],
   "source": [
    "index= len(ratings)\n",
    "ratings[7:index-1]\n"
   ]
  },
  {
   "cell_type": "code",
   "execution_count": 70,
   "metadata": {},
   "outputs": [
    {
     "name": "stdout",
     "output_type": "stream",
     "text": [
      "2\n",
      "3\n",
      "4\n",
      "5\n",
      "6\n",
      "7\n",
      "8\n"
     ]
    }
   ],
   "source": [
    "from selenium.common import exceptions\n",
    "import time\n",
    "\n",
    "# get the reviews starting from the 2nd page\n",
    "# until there is no button to click\n",
    "# there are about 37ish pages total since there are about 1100 reviews\n",
    "# (probably) 30 pages per reviews except for the first page\n",
    "i=2\n",
    "reviews_comb=[]\n",
    "ratings_comb=[]\n",
    "\n",
    "while(True):\n",
    "    try :\n",
    "        next_review_path = '//*[@id=\"reviews\"]/div/div[3]/div/ul/li[6]/a/span[1]' \n",
    "        review_next_button = WebDriverWait(driver, 30).until(EC.element_to_be_clickable((By.XPATH, next_review_path)))\n",
    "        driver.execute_script(\"arguments[0].click();\", review_next_button)\n",
    "        time.sleep(3)\n",
    "  \n",
    "        # append the reviews and ratings to a list\n",
    "        review_list = driver.find_elements_by_css_selector('.NHaasDS55Rg.fontSize_12.padBottom15.wrapText')\n",
    "        for el in review_list:\n",
    "            reviews_comb.append(el.find_element_by_tag_name('span').text)\n",
    "\n",
    "    \n",
    "        rating_list = driver.find_elements_by_css_selector('.displayInlineBlock.positionRelative.fontSize_14')\n",
    "        for st in rating_list:\n",
    "            ratings_comb.append(st.find_element_by_class_name('a11y-hidden').text)\n",
    "        print(i)\n",
    "        i=i+1\n",
    "    \n",
    "    #except exceptions.StaleElementReferenceException:\n",
    "    except exceptions.StaleElementReferenceException as e:\n",
    "        raise e\n",
    "    \n",
    "    except exceptions.TimeoutException :\n",
    "        break\n",
    "    "
   ]
  },
  {
   "cell_type": "code",
   "execution_count": 73,
   "metadata": {},
   "outputs": [],
   "source": [
    "merged_reviews = reviews + reviews_comb\n",
    "merged_ratings = ratings + ratings_comb"
   ]
  },
  {
   "cell_type": "code",
   "execution_count": 76,
   "metadata": {},
   "outputs": [],
   "source": [
    "import pandas as pd\n",
    "\n",
    "df_rating = pd.DataFrame({\"review\" : merged_reviews})\n",
    "df_stars = pd.DataFrame({\"rating\" : merged_ratings})\n",
    "\n",
    "galaxy_s9 = pd.concat([df_rating, df_stars], axis=1)\n",
    "\n",
    "galaxy_s9['phone'] = \"galaxy\"\n",
    "galaxy_s9['source'] = \"vw.com\"\n",
    "galaxy_s9\n",
    "\n",
    "cols = ['source','phone','review','rating']\n",
    "galaxy_s9 = galaxy_s9.reindex(columns=cols)\n",
    "\n",
    "galaxy_s9.to_csv('vw_galaxy.csv', index=False)"
   ]
  },
  {
   "cell_type": "code",
   "execution_count": null,
   "metadata": {},
   "outputs": [],
   "source": []
  }
 ],
 "metadata": {
  "kernelspec": {
   "display_name": "Python 3",
   "language": "python",
   "name": "python3"
  },
  "language_info": {
   "codemirror_mode": {
    "name": "ipython",
    "version": 3
   },
   "file_extension": ".py",
   "mimetype": "text/x-python",
   "name": "python",
   "nbconvert_exporter": "python",
   "pygments_lexer": "ipython3",
   "version": "3.6.8"
  }
 },
 "nbformat": 4,
 "nbformat_minor": 2
}
