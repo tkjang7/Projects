{
 "cells": [
  {
   "cell_type": "code",
   "execution_count": 2,
   "metadata": {},
   "outputs": [],
   "source": [
    "from urllib.request import Request, urlopen\n",
    "from bs4 import BeautifulSoup\n",
    "\n",
    "last_page_num=99\n",
    "rating_x = []\n",
    "stars_value =[]\n",
    "\n",
    "for page in range(1, last_page_num+1):\n",
    "    req = Request('https://www.influenster.com/reviews/apple-iphone-x?review_page={}'.format(page), headers={'User-Agent': 'Mozilla/5.0'})\n",
    "    webpage = urlopen(req).read()\n",
    "    soup = BeautifulSoup(webpage, 'html.parser')\n",
    "\n",
    "    for review in soup.find_all(class_=\"content-item-text review-text\"):\n",
    "        textofrev = review.get_text().strip()\n",
    "        rating_x.append(textofrev)\n",
    "\n",
    "\n",
    "    for star in soup.find_all('div', class_='review-item-stars'):\n",
    "        star_com = star.div['data-stars']\n",
    "        stars_value.append(star_com)\n"
   ]
  },
  {
   "cell_type": "code",
   "execution_count": 5,
   "metadata": {},
   "outputs": [],
   "source": [
    "import pandas as pd\n",
    "\n",
    "df_rating = pd.DataFrame({\"review\" : rating_x})\n",
    "df_stars = pd.DataFrame({\"rating\" : stars_value})\n",
    "\n",
    "iphone_x = pd.concat([df_rating, df_stars], axis=1)\n",
    "\n",
    "iphone_x['phone'] = \"iphone\"\n",
    "iphone_x['source'] = \"influenster\"\n",
    "\n",
    "\n",
    "cols = ['source','phone','review','rating']\n",
    "iphone_x = iphone_x.reindex(columns=cols)\n",
    "\n",
    "iphone_x.to_csv('influenster_iphone.csv', index=False)"
   ]
  },
  {
   "cell_type": "code",
   "execution_count": 6,
   "metadata": {},
   "outputs": [
    {
     "data": {
      "text/plain": [
       "'C:\\\\Users\\\\sensu\\\\Desktop\\\\MSIS\\\\DS_project'"
      ]
     },
     "execution_count": 6,
     "metadata": {},
     "output_type": "execute_result"
    }
   ],
   "source": [
    "import os\n",
    "\n",
    "os.getcwd()"
   ]
  },
  {
   "cell_type": "code",
   "execution_count": null,
   "metadata": {},
   "outputs": [],
   "source": []
  }
 ],
 "metadata": {
  "kernelspec": {
   "display_name": "Python 3",
   "language": "python",
   "name": "python3"
  },
  "language_info": {
   "codemirror_mode": {
    "name": "ipython",
    "version": 3
   },
   "file_extension": ".py",
   "mimetype": "text/x-python",
   "name": "python",
   "nbconvert_exporter": "python",
   "pygments_lexer": "ipython3",
   "version": "3.6.8"
  }
 },
 "nbformat": 4,
 "nbformat_minor": 2
}
