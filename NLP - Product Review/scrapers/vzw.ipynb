{
 "cells": [
  {
   "cell_type": "code",
   "execution_count": 83,
   "metadata": {},
   "outputs": [],
   "source": [
    "'''\n",
    "This is to scrape verizonwireless.com's iphone reviews.\n",
    "There are 179 reviews for iphone X and 73 reviews for galaxy s9.\n",
    "\n",
    "written by Soi Kang\n",
    "3/30/2019\n",
    "'''\n",
    "\n",
    "from selenium import webdriver\n",
    "from selenium.webdriver.support.ui import WebDriverWait\n",
    "from selenium.webdriver.support import expected_conditions as EC\n",
    "from selenium.webdriver.common.by import By\n",
    "from pathlib import Path\n",
    "from bs4 import BeautifulSoup\n",
    "\n",
    "driver = webdriver.Chrome()\n",
    "driver.get(\"https://www.verizonwireless.com/smartphones/apple-iphone-x/?sku=sku2680533\")\n",
    "\n",
    "# need to navigate through reviews.\n",
    "# problem for this website is that the url doesn't change no matter what I navigate through\n",
    "# but selenium can do it\n",
    "\n",
    "#this is to get to the reviews from the original url\n",
    "review_button_path = '//*[@id=\"reviewsLink\"]'\n",
    "wait = WebDriverWait(driver, 5)\n",
    "review_button = wait.until(EC.visibility_of_element_located((By.XPATH, review_button_path)))\n",
    "driver.execute_script(\"arguments[0].click();\", review_button)"
   ]
  },
  {
   "cell_type": "code",
   "execution_count": 84,
   "metadata": {},
   "outputs": [
    {
     "name": "stdout",
     "output_type": "stream",
     "text": [
      "0\n",
      "1\n",
      "2\n",
      "3\n",
      "4\n",
      "5\n",
      "6\n",
      "7\n",
      "8\n",
      "9\n",
      "10\n",
      "11\n",
      "12\n",
      "13\n",
      "14\n",
      "15\n",
      "16\n"
     ]
    }
   ],
   "source": [
    "# get the reviews and rating for the first page\n",
    "reviews = []\n",
    "ratings = []\n",
    "review_rating = []\n",
    "\n",
    "review_list = driver.find_elements_by_css_selector('.NHaasDS55Rg.fontSize_12.padBottom15.wrapText')\n",
    "for el in review_list:\n",
    "    #print(el.find_element_by_tag_name('span').text)\n",
    "    reviews.append(el.find_element_by_tag_name('span').text)\n",
    "    \n",
    "rating_list = driver.find_elements_by_css_selector('.displayInlineBlock.positionRelative.fontSize_14')\n",
    "\n",
    "for i in range(len(rating_list)) :\n",
    "    print (i)\n",
    "    # we should get rid of the first 7 elements since it is different rating values; not associated with the reviews.\n",
    "    # starting index at 7, the stars are associated with the reviews\n",
    "    if(i>6) :\n",
    "        element = rating_list[i].find_element_by_class_name(\"a11y-hidden\").text\n",
    "        ratings.append(element) #this will have 17 elements in the list.\n",
    "    else :\n",
    "        pass #do nothing\n",
    "    \n",
    "    "
   ]
  },
  {
   "cell_type": "code",
   "execution_count": 85,
   "metadata": {},
   "outputs": [
    {
     "name": "stdout",
     "output_type": "stream",
     "text": [
      "0\n",
      "1\n",
      "2\n",
      "3\n",
      "4\n",
      "5\n",
      "6\n",
      "7\n",
      "8\n",
      "9\n",
      "10\n",
      "11\n",
      "12\n",
      "13\n",
      "14\n",
      "15\n"
     ]
    }
   ],
   "source": [
    "# to get the rest of the review pages\n",
    "from selenium.common import exceptions\n",
    "import time\n",
    "\n",
    "j=0\n",
    "while(True):\n",
    "    try :\n",
    "        next_review_path = '//*[@id=\"reviews\"]/div/div[3]/div/ul/li[6]/a/span[1]' \n",
    "        review_next_button = WebDriverWait(driver, 100).until(EC.element_to_be_clickable((By.XPATH, next_review_path)))\n",
    "        driver.execute_script(\"arguments[0].click();\", review_next_button)\n",
    "        time.sleep(4)\n",
    "  \n",
    "        review_list = driver.find_elements_by_css_selector('.NHaasDS55Rg.fontSize_12.padBottom15.wrapText')\n",
    "        for el in review_list:\n",
    "            reviews.append(el.find_element_by_tag_name('span').text)\n",
    "    \n",
    "        rating_list = driver.find_elements_by_css_selector('.displayInlineBlock.positionRelative.fontSize_14')\n",
    "        for i in range(len(rating_list)) :\n",
    "        # we should get rid of the first 7 elements since it is different rating values; not associated with the reviews.\n",
    "        # starting index at 7, the stars are associated with the reviews\n",
    "            if(i>6) :\n",
    "                element = rating_list[i].find_element_by_class_name(\"a11y-hidden\").text\n",
    "                ratings.append(element) #this will have 17 elements in the list.\n",
    "            else :\n",
    "                pass #do nothing\n",
    "    \n",
    "        time.sleep(4)\n",
    "        print(j)\n",
    "        j=j+1\n",
    "    \n",
    "    except exceptions.StaleElementReferenceException as e:\n",
    "        raise e\n",
    "    \n",
    "    except exceptions.TimeoutException :\n",
    "        break\n",
    "    "
   ]
  },
  {
   "cell_type": "code",
   "execution_count": 87,
   "metadata": {},
   "outputs": [
    {
     "data": {
      "text/plain": [
       "170"
      ]
     },
     "execution_count": 87,
     "metadata": {},
     "output_type": "execute_result"
    }
   ],
   "source": [
    "len(reviews) #was time.sleep(3) there were 160 elements in the list\n"
   ]
  },
  {
   "cell_type": "code",
   "execution_count": 88,
   "metadata": {},
   "outputs": [
    {
     "data": {
      "text/plain": [
       "170"
      ]
     },
     "execution_count": 88,
     "metadata": {},
     "output_type": "execute_result"
    }
   ],
   "source": [
    "len(ratings)"
   ]
  },
  {
   "cell_type": "code",
   "execution_count": 97,
   "metadata": {},
   "outputs": [],
   "source": [
    "# combine the two lists as a dataframe\n",
    "import pandas as pd\n",
    "import re\n",
    "\n",
    "numbers = []\n",
    "for rating in ratings :\n",
    "    \n",
    "    numbers.append(re.search(r'\\d+', rating).group())\n",
    "\n",
    "df = pd.DataFrame({\"review\" : reviews, \"rating\" : numbers})\n",
    "df['source'] = \"vw\"\n",
    "df['phone'] = \"iphone\"\n",
    "    \n",
    "    \n",
    "#reorder columns\n",
    "cols = ['source','phone','review','rating']\n",
    "final = df.reindex(columns=cols)        "
   ]
  },
  {
   "cell_type": "code",
   "execution_count": 98,
   "metadata": {},
   "outputs": [],
   "source": [
    "final.to_csv('vw_iphone.csv', index=False)"
   ]
  }
 ],
 "metadata": {
  "kernelspec": {
   "display_name": "Python 3",
   "language": "python",
   "name": "python3"
  },
  "language_info": {
   "codemirror_mode": {
    "name": "ipython",
    "version": 3
   },
   "file_extension": ".py",
   "mimetype": "text/x-python",
   "name": "python",
   "nbconvert_exporter": "python",
   "pygments_lexer": "ipython3",
   "version": "3.6.8"
  }
 },
 "nbformat": 4,
 "nbformat_minor": 2
}
